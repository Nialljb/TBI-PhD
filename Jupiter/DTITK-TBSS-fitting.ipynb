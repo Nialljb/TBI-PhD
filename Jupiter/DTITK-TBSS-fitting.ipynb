{
 "cells": [
  {
   "cell_type": "markdown",
   "metadata": {},
   "source": [
    "# DTI-TK DTI analysis\n",
    "n.bourke@imperial.ac.uk  \n",
    "  \n",
    "This notebook will run a DTI analysis following the TBSS pipeline, including DTI-TK registration.\n",
    "Data structure follows BIDS format  \n",
    "https://bids.neuroimaging.io/"
   ]
  },
  {
   "cell_type": "markdown",
   "metadata": {},
   "source": [
    "------"
   ]
  },
  {
   "cell_type": "markdown",
   "metadata": {},
   "source": [
    "## Setup environment\n",
    "##### python cell\n",
    "    1. enter project ID\n",
    "    2. If this project doesn't exist in in the temporary space, create it\n",
    "    3. Set important paths that will be used\n",
    "    4. Make a setup script to save bash variables in"
   ]
  },
  {
   "cell_type": "code",
   "execution_count": 2,
   "metadata": {
    "collapsed": true
   },
   "outputs": [],
   "source": [
    "import os\n",
    "\n",
    "project = \"PTBI\" \n",
    "\n",
    "directory = (\"/rds/general/project/c3nl_djs_imaging_data/ephemeral/\" + project + \"/data/\")\n",
    "if not os.path.exists(directory):\n",
    "    os.makedirs(directory)\n",
    "    \n",
    "raw = (\"/rds/general/project/c3nl_djs_imaging_data/live/data/raw/\" + project + \"/\")\n",
    "source = (\"/rds/general/project/c3nl_djs_imaging_data/live/data/sourcedata/\")\n",
    "workingDir = (\"/rds/general/project/c3nl_djs_imaging_data/ephemeral/\" + project + \"/\")\n",
    "setup = (workingDir + \"/dti_setup.sh\" )\n"
   ]
  },
  {
   "cell_type": "code",
   "execution_count": 3,
   "metadata": {},
   "outputs": [
    {
     "name": "stdout",
     "output_type": "stream",
     "text": [
      "Overwriting /rds/general/project/c3nl_djs_imaging_data/ephemeral/PTBI//dti_setup.sh\n"
     ]
    }
   ],
   "source": [
    "%%writefile $setup\n",
    "\n",
    "$(: Project label) \n",
    "project=\"PTBI\"\n",
    "\n",
    "$(:  Where is the RAW directory?)\n",
    "export raw=/rds/general/project/c3nl_djs_imaging_data/live/data/raw/${project};\n",
    "\n",
    "$(: dependencies)\n",
    "export dep=/rds/general/project/c3nl_shared/live/dependencies/\n",
    "export templates=/rds/general/project/c3nl_djs_imaging_data/live/analysis/paeds/templates\n",
    "export workingDir=/rds/general/project/c3nl_djs_imaging_data/ephemeral/${project}\n",
    "\n",
    "dtitk_setup=\"export DTITK_ROOT=/apps/dti-tk/2.3.1/; export PATH=$PATH:$DTITK_ROOT/bin:$DTITK_ROOT/utilities:$DTITK_ROOT/scripts:$DTITK_ROOT/lib:$DTITK_ROOT/include\" \n",
    "#echo ${PATH}\n",
    "\n",
    "# Define modules    \n",
    "fsl=\"module load fsl\";\n",
    "mricrogl=\"module load mricogl\";\n"
   ]
  },
  {
   "cell_type": "code",
   "execution_count": 9,
   "metadata": {},
   "outputs": [
    {
     "name": "stdout",
     "output_type": "stream",
     "text": [
      "/rds/general/project/c3nl_djs_imaging_data/ephemeral/PTBI\n"
     ]
    }
   ],
   "source": [
    "%%bash -s \"$setup\"\n",
    "export setup=$1;\n",
    "source ${setup}\n",
    "echo ${workingDir}"
   ]
  },
  {
   "cell_type": "markdown",
   "metadata": {},
   "source": [
    "### Copy data"
   ]
  },
  {
   "cell_type": "markdown",
   "metadata": {},
   "source": [
    "Data valadation - check data is correctly pulled from raw to source data"
   ]
  },
  {
   "cell_type": "code",
   "execution_count": null,
   "metadata": {
    "collapsed": true
   },
   "outputs": [],
   "source": [
    "# import os\n",
    "# import fnmatch\n",
    "\n",
    "    \n",
    "# for subject in os.listdir(raw):\n",
    "#     #print(subject)  \n",
    "#     subDir = (source + \"sub-\" + subject + \"/\")\n",
    "#     for session in os.listdir(subDir):\n",
    "#         in_file = (subDir + session + \"/dwi/msdwi/sub-\" + subject + \"_\" + session + \"_msdwi.nii\")\n",
    "\n",
    "#         try:\n",
    "#             f = open(in_file)\n",
    "#             print(in_file + ' File exists')\n",
    "#             f.close()\n",
    "#         except FileNotFoundError:\n",
    "#             print(in_file + ' WARNING: File does not exist')\n",
    "            "
   ]
  },
  {
   "cell_type": "markdown",
   "metadata": {},
   "source": [
    "### Stage 1: File management - create an organised data directory\n",
    "#### Pulling from BIDS sourcedata structure "
   ]
  },
  {
   "cell_type": "code",
   "execution_count": 7,
   "metadata": {},
   "outputs": [
    {
     "name": "stdout",
     "output_type": "stream",
     "text": [
      "/rds/general/project/c3nl_djs_imaging_data/ephemeral/PTBI\n"
     ]
    }
   ],
   "source": [
    "%%bash -s \"$setup\"\n",
    "export setup=$1;\n",
    "source ${setup}\n",
    "echo ${workingDir}\n",
    "# ----------------\n",
    "\n",
    "sourceDir=/rds/general/project/c3nl_djs_imaging_data/live/data/sourcedata/\n",
    "\n",
    "# setup log dir\n",
    "if [ ! -d ${workingDir}/commandLogs/ ]; then\n",
    "    echo \"Making log dir!\"\n",
    "    mkdir -p ${workingDir}/commandLogs/\n",
    "fi\n",
    "\n",
    "\n",
    "echo -n \"\" > ${workingDir}/commandLogs/dwiMissingData.txt;\n",
    "\n",
    "for ii in `ls -d ${raw}/*`; \n",
    "do\n",
    "    sub=`basename $ii`\n",
    "    for ses in `ls ${sourceDir}/sub-${sub}`;\n",
    "    do\n",
    "        for session in `ls ${sourceDir}/sub-${sub}/`;\n",
    "        do\n",
    "            if [ ! -d ${sourceDir}/sub-${sub}/${session}/dwi/dti/ ]; then \n",
    "                echo \"DTI data not found for ${ses}\" >> ${workingDir}/commandLogs/msdwiMissingData.txt;\n",
    "            else\n",
    "                mkdir -p ${workingDir}/data/sub-${sub}/${ses}/dwi/dti\n",
    "                #mkdir -p ${workingDir}/data/sub-${sub}/${ses}/anat/T1w\n",
    "                cp ${sourceDir}/sub-${sub}/${ses}/dwi/dti/*  ${workingDir}/data/sub-${sub}/${ses}/dwi/dti/;\n",
    "                #cp ${source}/sub-${subject}/${session}/anat/T1w/*  ${workingDir}/data/sub-${sub}/${ses}/anat/T1w/;\n",
    "            fi\n",
    "        done\n",
    "    done    \n",
    "done"
   ]
  },
  {
   "cell_type": "code",
   "execution_count": 8,
   "metadata": {},
   "outputs": [
    {
     "name": "stdout",
     "output_type": "stream",
     "text": [
      "/rds/general/project/c3nl_djs_imaging_data/ephemeral/PTBI\n"
     ]
    }
   ],
   "source": [
    "%%bash -s \"$setup\"\n",
    "export setup=$1;\n",
    "source ${setup}\n",
    "echo ${workingDir}\n",
    "\n",
    "# module load fsl\n",
    "#----------------------------\n",
    "\n",
    "# setup log dir\n",
    "if [ ! -d ${workingDir}/commandLogs/ ]; then\n",
    "    echo \"Making log dir!\"\n",
    "    mkdir ${workingDir}/commandLogs/\n",
    "fi\n",
    "#\n",
    "\n",
    "# Make a list of all DWI scans\n",
    "echo -n \"\" > ${workingDir}/dti_list.txt\n",
    "for s in `ls -d ${workingDir}/data/*`;\n",
    "    do\n",
    "    subj=`basename ${s}`\n",
    "    for ses in `ls ${workingDir}/data/${subj}`; \n",
    "        do \n",
    "        echo ${workingDir}/data/${subj}/${ses}/dwi/dti/${subj}_${ses}_dti.nii >> ${workingDir}/dti_list.txt \n",
    "    done\n",
    "done\n"
   ]
  },
  {
   "cell_type": "markdown",
   "metadata": {},
   "source": [
    "#### Checking the data"
   ]
  },
  {
   "cell_type": "markdown",
   "metadata": {},
   "source": [
    "### Stage 2: Pre-processing diffusion data"
   ]
  },
  {
   "cell_type": "markdown",
   "metadata": {},
   "source": [
    "### Correct for eddy distortion and motion in the data"
   ]
  },
  {
   "cell_type": "code",
   "execution_count": 16,
   "metadata": {},
   "outputs": [
    {
     "name": "stdout",
     "output_type": "stream",
     "text": [
      "/rds/general/project/c3nl_djs_imaging_data/ephemeral/PTBI\n",
      "input is = /rds/general/project/c3nl_djs_imaging_data/ephemeral/PTBI/commandLogs/ec_correct.txt\n",
      "Walltime = 04:00:00\n",
      "Number of CPUs = 3\n",
      "Memory = 6Gb\n",
      "Array jobs submitted: 60\n",
      "Job submitted: Mon  6 Apr 10:06:46 BST 2020\n",
      "1280195[].pbs\n",
      "\n",
      "***\n",
      "\n",
      "Submitted commands:\n",
      "module load fsl; eddy_correct  /rds/general/project/c3nl_djs_imaging_data/ephemeral/PTBI/data/sub-CIF0537/ses-2017-03-27-PILOT_AMR/dwi/dti/data.nii.gz 0; fslroi /rds/general/project/c3nl_djs_imaging_data/ephemeral/PTBI/data/sub-CIF0537/ses-2017-03-27-PILOT_AMR/dwi/dti/data.nii.gz /rds/general/project/c3nl_djs_imaging_data/ephemeral/PTBI/data/sub-CIF0537/ses-2017-03-27-PILOT_AMR/dwi/dti/nodif.nii.gz 0 1; fdt_rotate_bvecs  /rds/general/project/c3nl_djs_imaging_data/ephemeral/PTBI/data/sub-CIF0537/ses-2017-03-27-PILOT_AMR/dwi/dti/rotated_bvec /rds/general/project/c3nl_djs_imaging_data/ephemeral/PTBI/data/sub-CIF0537/ses-2017-03-27-PILOT_AMR/dwi/dti/data.ecclog; bet /rds/general/project/c3nl_djs_imaging_data/ephemeral/PTBI/data/sub-CIF0537/ses-2017-03-27-PILOT_AMR/dwi/dti/nodif.nii.gz /rds/general/project/c3nl_djs_imaging_data/ephemeral/PTBI/data/sub-CIF0537/ses-2017-03-27-PILOT_AMR/dwi/dti/nodif_brain -f 0.2 -g  0 -m; mv  /rds/general/project/c3nl_djs_imaging_data/ephemeral/PTBI/data/sub-CIF0537/ses-2017-03-27-PILOT_AMR/dwi/dti/ses-2017-03-27-PILOT_AMR_dti.bval; dtifit --data=/rds/general/project/c3nl_djs_imaging_data/ephemeral/PTBI/data/sub-CIF0537/ses-2017-03-27-PILOT_AMR/dwi/dti/data.nii.gz --out=/rds/general/project/c3nl_djs_imaging_data/ephemeral/PTBI/data/sub-CIF0537/ses-2017-03-27-PILOT_AMR/dwi/dti/dti --mask=/rds/general/project/c3nl_djs_imaging_data/ephemeral/PTBI/data/sub-CIF0537/ses-2017-03-27-PILOT_AMR/dwi/dti/nodif_brain_mask --bvecs=/rds/general/project/c3nl_djs_imaging_data/ephemeral/PTBI/data/sub-CIF0537/ses-2017-03-27-PILOT_AMR/dwi/dti/rotated_bvec --bvals=/rds/general/project/c3nl_djs_imaging_data/ephemeral/PTBI/data/sub-CIF0537/ses-2017-03-27-PILOT_AMR/dwi/dti/ses-2017-03-27-PILOT_AMR_dti.bval -w\n",
      "module load fsl; eddy_correct /rds/general/project/c3nl_djs_imaging_data/ephemeral/PTBI/data/sub-CIF1638/ses-2017-03-30-PTBI001/dwi/dti/sub-CIF1638_ses-2017-03-30-PTBI001_dti.nii /rds/general/project/c3nl_djs_imaging_data/ephemeral/PTBI/data/sub-CIF1638/ses-2017-03-30-PTBI001/dwi/dti/data.nii.gz 0; fslroi /rds/general/project/c3nl_djs_imaging_data/ephemeral/PTBI/data/sub-CIF1638/ses-2017-03-30-PTBI001/dwi/dti/data.nii.gz /rds/general/project/c3nl_djs_imaging_data/ephemeral/PTBI/data/sub-CIF1638/ses-2017-03-30-PTBI001/dwi/dti/nodif.nii.gz 0 1; fdt_rotate_bvecs /rds/general/project/c3nl_djs_imaging_data/ephemeral/PTBI/data/sub-CIF1638/ses-2017-03-30-PTBI001/dwi/dti/sub-CIF1638_ses-2017-03-30-PTBI001_dti.bvec /rds/general/project/c3nl_djs_imaging_data/ephemeral/PTBI/data/sub-CIF1638/ses-2017-03-30-PTBI001/dwi/dti/rotated_bvec /rds/general/project/c3nl_djs_imaging_data/ephemeral/PTBI/data/sub-CIF1638/ses-2017-03-30-PTBI001/dwi/dti/data.ecclog; bet /rds/general/project/c3nl_djs_imaging_data/ephemeral/PTBI/data/sub-CIF1638/ses-2017-03-30-PTBI001/dwi/dti/nodif.nii.gz /rds/general/project/c3nl_djs_imaging_data/ephemeral/PTBI/data/sub-CIF1638/ses-2017-03-30-PTBI001/dwi/dti/nodif_brain -f 0.2 -g  0 -m; mv /rds/general/project/c3nl_djs_imaging_data/ephemeral/PTBI/data/sub-CIF1638/ses-2017-03-30-PTBI001/dwi/dti/sub-CIF1638_ses-2017-03-30-PTBI001_dti.bval /rds/general/project/c3nl_djs_imaging_data/ephemeral/PTBI/data/sub-CIF1638/ses-2017-03-30-PTBI001/dwi/dti/ses-2017-03-30-PTBI001_dti.bval; dtifit --data=/rds/general/project/c3nl_djs_imaging_data/ephemeral/PTBI/data/sub-CIF1638/ses-2017-03-30-PTBI001/dwi/dti/data.nii.gz --out=/rds/general/project/c3nl_djs_imaging_data/ephemeral/PTBI/data/sub-CIF1638/ses-2017-03-30-PTBI001/dwi/dti/dti --mask=/rds/general/project/c3nl_djs_imaging_data/ephemeral/PTBI/data/sub-CIF1638/ses-2017-03-30-PTBI001/dwi/dti/nodif_brain_mask --bvecs=/rds/general/project/c3nl_djs_imaging_data/ephemeral/PTBI/data/sub-CIF1638/ses-2017-03-30-PTBI001/dwi/dti/rotated_bvec --bvals=/rds/general/project/c3nl_djs_imaging_data/ephemeral/PTBI/data/sub-CIF1638/ses-2017-03-30-PTBI001/dwi/dti/ses-2017-03-30-PTBI001_dti.bval -w\n",
      "module load fsl; eddy_correct /rds/general/project/c3nl_djs_imaging_data/ephemeral/PTBI/data/sub-CIF1702/ses-2017-05-31-PTBI003/dwi/dti/sub-CIF1702_ses-2017-05-31-PTBI003_dti.nii /rds/general/project/c3nl_djs_imaging_data/ephemeral/PTBI/data/sub-CIF1702/ses-2017-05-31-PTBI003/dwi/dti/data.nii.gz 0; fslroi /rds/general/project/c3nl_djs_imaging_data/ephemeral/PTBI/data/sub-CIF1702/ses-2017-05-31-PTBI003/dwi/dti/data.nii.gz /rds/general/project/c3nl_djs_imaging_data/ephemeral/PTBI/data/sub-CIF1702/ses-2017-05-31-PTBI003/dwi/dti/nodif.nii.gz 0 1; fdt_rotate_bvecs /rds/general/project/c3nl_djs_imaging_data/ephemeral/PTBI/data/sub-CIF1702/ses-2017-05-31-PTBI003/dwi/dti/sub-CIF1702_ses-2017-05-31-PTBI003_dti.bvec /rds/general/project/c3nl_djs_imaging_data/ephemeral/PTBI/data/sub-CIF1702/ses-2017-05-31-PTBI003/dwi/dti/rotated_bvec /rds/general/project/c3nl_djs_imaging_data/ephemeral/PTBI/data/sub-CIF1702/ses-2017-05-31-PTBI003/dwi/dti/data.ecclog; bet /rds/general/project/c3nl_djs_imaging_data/ephemeral/PTBI/data/sub-CIF1702/ses-2017-05-31-PTBI003/dwi/dti/nodif.nii.gz /rds/general/project/c3nl_djs_imaging_data/ephemeral/PTBI/data/sub-CIF1702/ses-2017-05-31-PTBI003/dwi/dti/nodif_brain -f 0.2 -g  0 -m; mv /rds/general/project/c3nl_djs_imaging_data/ephemeral/PTBI/data/sub-CIF1702/ses-2017-05-31-PTBI003/dwi/dti/sub-CIF1702_ses-2017-05-31-PTBI003_dti.bval /rds/general/project/c3nl_djs_imaging_data/ephemeral/PTBI/data/sub-CIF1702/ses-2017-05-31-PTBI003/dwi/dti/ses-2017-05-31-PTBI003_dti.bval; dtifit --data=/rds/general/project/c3nl_djs_imaging_data/ephemeral/PTBI/data/sub-CIF1702/ses-2017-05-31-PTBI003/dwi/dti/data.nii.gz --out=/rds/general/project/c3nl_djs_imaging_data/ephemeral/PTBI/data/sub-CIF1702/ses-2017-05-31-PTBI003/dwi/dti/dti --mask=/rds/general/project/c3nl_djs_imaging_data/ephemeral/PTBI/data/sub-CIF1702/ses-2017-05-31-PTBI003/dwi/dti/nodif_brain_mask --bvecs=/rds/general/project/c3nl_djs_imaging_data/ephemeral/PTBI/data/sub-CIF1702/ses-2017-05-31-PTBI003/dwi/dti/rotated_bvec --bvals=/rds/general/project/c3nl_djs_imaging_data/ephemeral/PTBI/data/sub-CIF1702/ses-2017-05-31-PTBI003/dwi/dti/ses-2017-05-31-PTBI003_dti.bval -w\n",
      "module load fsl; eddy_correct /rds/general/project/c3nl_djs_imaging_data/ephemeral/PTBI/data/sub-CIF1703/ses-2017-05-31-PTBI101/dwi/dti/sub-CIF1703_ses-2017-05-31-PTBI101_dti.nii /rds/general/project/c3nl_djs_imaging_data/ephemeral/PTBI/data/sub-CIF1703/ses-2017-05-31-PTBI101/dwi/dti/data.nii.gz 0; fslroi /rds/general/project/c3nl_djs_imaging_data/ephemeral/PTBI/data/sub-CIF1703/ses-2017-05-31-PTBI101/dwi/dti/data.nii.gz /rds/general/project/c3nl_djs_imaging_data/ephemeral/PTBI/data/sub-CIF1703/ses-2017-05-31-PTBI101/dwi/dti/nodif.nii.gz 0 1; fdt_rotate_bvecs /rds/general/project/c3nl_djs_imaging_data/ephemeral/PTBI/data/sub-CIF1703/ses-2017-05-31-PTBI101/dwi/dti/sub-CIF1703_ses-2017-05-31-PTBI101_dti.bvec /rds/general/project/c3nl_djs_imaging_data/ephemeral/PTBI/data/sub-CIF1703/ses-2017-05-31-PTBI101/dwi/dti/rotated_bvec /rds/general/project/c3nl_djs_imaging_data/ephemeral/PTBI/data/sub-CIF1703/ses-2017-05-31-PTBI101/dwi/dti/data.ecclog; bet /rds/general/project/c3nl_djs_imaging_data/ephemeral/PTBI/data/sub-CIF1703/ses-2017-05-31-PTBI101/dwi/dti/nodif.nii.gz /rds/general/project/c3nl_djs_imaging_data/ephemeral/PTBI/data/sub-CIF1703/ses-2017-05-31-PTBI101/dwi/dti/nodif_brain -f 0.2 -g  0 -m; mv /rds/general/project/c3nl_djs_imaging_data/ephemeral/PTBI/data/sub-CIF1703/ses-2017-05-31-PTBI101/dwi/dti/sub-CIF1703_ses-2017-05-31-PTBI101_dti.bval /rds/general/project/c3nl_djs_imaging_data/ephemeral/PTBI/data/sub-CIF1703/ses-2017-05-31-PTBI101/dwi/dti/ses-2017-05-31-PTBI101_dti.bval; dtifit --data=/rds/general/project/c3nl_djs_imaging_data/ephemeral/PTBI/data/sub-CIF1703/ses-2017-05-31-PTBI101/dwi/dti/data.nii.gz --out=/rds/general/project/c3nl_djs_imaging_data/ephemeral/PTBI/data/sub-CIF1703/ses-2017-05-31-PTBI101/dwi/dti/dti --mask=/rds/general/project/c3nl_djs_imaging_data/ephemeral/PTBI/data/sub-CIF1703/ses-2017-05-31-PTBI101/dwi/dti/nodif_brain_mask --bvecs=/rds/general/project/c3nl_djs_imaging_data/ephemeral/PTBI/data/sub-CIF1703/ses-2017-05-31-PTBI101/dwi/dti/rotated_bvec --bvals=/rds/general/project/c3nl_djs_imaging_data/ephemeral/PTBI/data/sub-CIF1703/ses-2017-05-31-PTBI101/dwi/dti/ses-2017-05-31-PTBI101_dti.bval -w\n",
      "module load fsl; eddy_correct /rds/general/project/c3nl_djs_imaging_data/ephemeral/PTBI/data/sub-CIF1704/ses-2017-06-01-PTBI002/dwi/dti/sub-CIF1704_ses-2017-06-01-PTBI002_dti.nii /rds/general/project/c3nl_djs_imaging_data/ephemeral/PTBI/data/sub-CIF1704/ses-2017-06-01-PTBI002/dwi/dti/data.nii.gz 0; fslroi /rds/general/project/c3nl_djs_imaging_data/ephemeral/PTBI/data/sub-CIF1704/ses-2017-06-01-PTBI002/dwi/dti/data.nii.gz /rds/general/project/c3nl_djs_imaging_data/ephemeral/PTBI/data/sub-CIF1704/ses-2017-06-01-PTBI002/dwi/dti/nodif.nii.gz 0 1; fdt_rotate_bvecs /rds/general/project/c3nl_djs_imaging_data/ephemeral/PTBI/data/sub-CIF1704/ses-2017-06-01-PTBI002/dwi/dti/sub-CIF1704_ses-2017-06-01-PTBI002_dti.bvec /rds/general/project/c3nl_djs_imaging_data/ephemeral/PTBI/data/sub-CIF1704/ses-2017-06-01-PTBI002/dwi/dti/rotated_bvec /rds/general/project/c3nl_djs_imaging_data/ephemeral/PTBI/data/sub-CIF1704/ses-2017-06-01-PTBI002/dwi/dti/data.ecclog; bet /rds/general/project/c3nl_djs_imaging_data/ephemeral/PTBI/data/sub-CIF1704/ses-2017-06-01-PTBI002/dwi/dti/nodif.nii.gz /rds/general/project/c3nl_djs_imaging_data/ephemeral/PTBI/data/sub-CIF1704/ses-2017-06-01-PTBI002/dwi/dti/nodif_brain -f 0.2 -g  0 -m; mv /rds/general/project/c3nl_djs_imaging_data/ephemeral/PTBI/data/sub-CIF1704/ses-2017-06-01-PTBI002/dwi/dti/sub-CIF1704_ses-2017-06-01-PTBI002_dti.bval /rds/general/project/c3nl_djs_imaging_data/ephemeral/PTBI/data/sub-CIF1704/ses-2017-06-01-PTBI002/dwi/dti/ses-2017-06-01-PTBI002_dti.bval; dtifit --data=/rds/general/project/c3nl_djs_imaging_data/ephemeral/PTBI/data/sub-CIF1704/ses-2017-06-01-PTBI002/dwi/dti/data.nii.gz --out=/rds/general/project/c3nl_djs_imaging_data/ephemeral/PTBI/data/sub-CIF1704/ses-2017-06-01-PTBI002/dwi/dti/dti --mask=/rds/general/project/c3nl_djs_imaging_data/ephemeral/PTBI/data/sub-CIF1704/ses-2017-06-01-PTBI002/dwi/dti/nodif_brain_mask --bvecs=/rds/general/project/c3nl_djs_imaging_data/ephemeral/PTBI/data/sub-CIF1704/ses-2017-06-01-PTBI002/dwi/dti/rotated_bvec --bvals=/rds/general/project/c3nl_djs_imaging_data/ephemeral/PTBI/data/sub-CIF1704/ses-2017-06-01-PTBI002/dwi/dti/ses-2017-06-01-PTBI002_dti.bval -w\n",
      "module load fsl; eddy_correct /rds/general/project/c3nl_djs_imaging_data/ephemeral/PTBI/data/sub-CIF1705/ses-2017-06-01-PTBI102v1/dwi/dti/sub-CIF1705_ses-2017-06-01-PTBI102v1_dti.nii /rds/general/project/c3nl_djs_imaging_data/ephemeral/PTBI/data/sub-CIF1705/ses-2017-06-01-PTBI102v1/dwi/dti/data.nii.gz 0; fslroi /rds/general/project/c3nl_djs_imaging_data/ephemeral/PTBI/data/sub-CIF1705/ses-2017-06-01-PTBI102v1/dwi/dti/data.nii.gz /rds/general/project/c3nl_djs_imaging_data/ephemeral/PTBI/data/sub-CIF1705/ses-2017-06-01-PTBI102v1/dwi/dti/nodif.nii.gz 0 1; fdt_rotate_bvecs /rds/general/project/c3nl_djs_imaging_data/ephemeral/PTBI/data/sub-CIF1705/ses-2017-06-01-PTBI102v1/dwi/dti/sub-CIF1705_ses-2017-06-01-PTBI102v1_dti.bvec /rds/general/project/c3nl_djs_imaging_data/ephemeral/PTBI/data/sub-CIF1705/ses-2017-06-01-PTBI102v1/dwi/dti/rotated_bvec /rds/general/project/c3nl_djs_imaging_data/ephemeral/PTBI/data/sub-CIF1705/ses-2017-06-01-PTBI102v1/dwi/dti/data.ecclog; bet /rds/general/project/c3nl_djs_imaging_data/ephemeral/PTBI/data/sub-CIF1705/ses-2017-06-01-PTBI102v1/dwi/dti/nodif.nii.gz /rds/general/project/c3nl_djs_imaging_data/ephemeral/PTBI/data/sub-CIF1705/ses-2017-06-01-PTBI102v1/dwi/dti/nodif_brain -f 0.2 -g  0 -m; mv /rds/general/project/c3nl_djs_imaging_data/ephemeral/PTBI/data/sub-CIF1705/ses-2017-06-01-PTBI102v1/dwi/dti/sub-CIF1705_ses-2017-06-01-PTBI102v1_dti.bval /rds/general/project/c3nl_djs_imaging_data/ephemeral/PTBI/data/sub-CIF1705/ses-2017-06-01-PTBI102v1/dwi/dti/ses-2017-06-01-PTBI102v1_dti.bval; dtifit --data=/rds/general/project/c3nl_djs_imaging_data/ephemeral/PTBI/data/sub-CIF1705/ses-2017-06-01-PTBI102v1/dwi/dti/data.nii.gz --out=/rds/general/project/c3nl_djs_imaging_data/ephemeral/PTBI/data/sub-CIF1705/ses-2017-06-01-PTBI102v1/dwi/dti/dti --mask=/rds/general/project/c3nl_djs_imaging_data/ephemeral/PTBI/data/sub-CIF1705/ses-2017-06-01-PTBI102v1/dwi/dti/nodif_brain_mask --bvecs=/rds/general/project/c3nl_djs_imaging_data/ephemeral/PTBI/data/sub-CIF1705/ses-2017-06-01-PTBI102v1/dwi/dti/rotated_bvec --bvals=/rds/general/project/c3nl_djs_imaging_data/ephemeral/PTBI/data/sub-CIF1705/ses-2017-06-01-PTBI102v1/dwi/dti/ses-2017-06-01-PTBI102v1_dti.bval -w\n",
      "module load fsl; eddy_correct /rds/general/project/c3nl_djs_imaging_data/ephemeral/PTBI/data/sub-CIF1724/ses-2017-06-23-PTBi103/dwi/dti/sub-CIF1724_ses-2017-06-23-PTBi103_dti.nii /rds/general/project/c3nl_djs_imaging_data/ephemeral/PTBI/data/sub-CIF1724/ses-2017-06-23-PTBi103/dwi/dti/data.nii.gz 0; fslroi /rds/general/project/c3nl_djs_imaging_data/ephemeral/PTBI/data/sub-CIF1724/ses-2017-06-23-PTBi103/dwi/dti/data.nii.gz /rds/general/project/c3nl_djs_imaging_data/ephemeral/PTBI/data/sub-CIF1724/ses-2017-06-23-PTBi103/dwi/dti/nodif.nii.gz 0 1; fdt_rotate_bvecs /rds/general/project/c3nl_djs_imaging_data/ephemeral/PTBI/data/sub-CIF1724/ses-2017-06-23-PTBi103/dwi/dti/sub-CIF1724_ses-2017-06-23-PTBi103_dti.bvec /rds/general/project/c3nl_djs_imaging_data/ephemeral/PTBI/data/sub-CIF1724/ses-2017-06-23-PTBi103/dwi/dti/rotated_bvec /rds/general/project/c3nl_djs_imaging_data/ephemeral/PTBI/data/sub-CIF1724/ses-2017-06-23-PTBi103/dwi/dti/data.ecclog; bet /rds/general/project/c3nl_djs_imaging_data/ephemeral/PTBI/data/sub-CIF1724/ses-2017-06-23-PTBi103/dwi/dti/nodif.nii.gz /rds/general/project/c3nl_djs_imaging_data/ephemeral/PTBI/data/sub-CIF1724/ses-2017-06-23-PTBi103/dwi/dti/nodif_brain -f 0.2 -g  0 -m; mv /rds/general/project/c3nl_djs_imaging_data/ephemeral/PTBI/data/sub-CIF1724/ses-2017-06-23-PTBi103/dwi/dti/sub-CIF1724_ses-2017-06-23-PTBi103_dti.bval /rds/general/project/c3nl_djs_imaging_data/ephemeral/PTBI/data/sub-CIF1724/ses-2017-06-23-PTBi103/dwi/dti/ses-2017-06-23-PTBi103_dti.bval; dtifit --data=/rds/general/project/c3nl_djs_imaging_data/ephemeral/PTBI/data/sub-CIF1724/ses-2017-06-23-PTBi103/dwi/dti/data.nii.gz --out=/rds/general/project/c3nl_djs_imaging_data/ephemeral/PTBI/data/sub-CIF1724/ses-2017-06-23-PTBi103/dwi/dti/dti --mask=/rds/general/project/c3nl_djs_imaging_data/ephemeral/PTBI/data/sub-CIF1724/ses-2017-06-23-PTBi103/dwi/dti/nodif_brain_mask --bvecs=/rds/general/project/c3nl_djs_imaging_data/ephemeral/PTBI/data/sub-CIF1724/ses-2017-06-23-PTBi103/dwi/dti/rotated_bvec --bvals=/rds/general/project/c3nl_djs_imaging_data/ephemeral/PTBI/data/sub-CIF1724/ses-2017-06-23-PTBi103/dwi/dti/ses-2017-06-23-PTBi103_dti.bval -w\n",
      "module load fsl; eddy_correct /rds/general/project/c3nl_djs_imaging_data/ephemeral/PTBI/data/sub-CIF1732/ses-2017-07-04-PTBi004/dwi/dti/sub-CIF1732_ses-2017-07-04-PTBi004_dti.nii /rds/general/project/c3nl_djs_imaging_data/ephemeral/PTBI/data/sub-CIF1732/ses-2017-07-04-PTBi004/dwi/dti/data.nii.gz 0; fslroi /rds/general/project/c3nl_djs_imaging_data/ephemeral/PTBI/data/sub-CIF1732/ses-2017-07-04-PTBi004/dwi/dti/data.nii.gz /rds/general/project/c3nl_djs_imaging_data/ephemeral/PTBI/data/sub-CIF1732/ses-2017-07-04-PTBi004/dwi/dti/nodif.nii.gz 0 1; fdt_rotate_bvecs /rds/general/project/c3nl_djs_imaging_data/ephemeral/PTBI/data/sub-CIF1732/ses-2017-07-04-PTBi004/dwi/dti/sub-CIF1732_ses-2017-07-04-PTBi004_dti.bvec /rds/general/project/c3nl_djs_imaging_data/ephemeral/PTBI/data/sub-CIF1732/ses-2017-07-04-PTBi004/dwi/dti/rotated_bvec /rds/general/project/c3nl_djs_imaging_data/ephemeral/PTBI/data/sub-CIF1732/ses-2017-07-04-PTBi004/dwi/dti/data.ecclog; bet /rds/general/project/c3nl_djs_imaging_data/ephemeral/PTBI/data/sub-CIF1732/ses-2017-07-04-PTBi004/dwi/dti/nodif.nii.gz /rds/general/project/c3nl_djs_imaging_data/ephemeral/PTBI/data/sub-CIF1732/ses-2017-07-04-PTBi004/dwi/dti/nodif_brain -f 0.2 -g  0 -m; mv /rds/general/project/c3nl_djs_imaging_data/ephemeral/PTBI/data/sub-CIF1732/ses-2017-07-04-PTBi004/dwi/dti/sub-CIF1732_ses-2017-07-04-PTBi004_dti.bval /rds/general/project/c3nl_djs_imaging_data/ephemeral/PTBI/data/sub-CIF1732/ses-2017-07-04-PTBi004/dwi/dti/ses-2017-07-04-PTBi004_dti.bval; dtifit --data=/rds/general/project/c3nl_djs_imaging_data/ephemeral/PTBI/data/sub-CIF1732/ses-2017-07-04-PTBi004/dwi/dti/data.nii.gz --out=/rds/general/project/c3nl_djs_imaging_data/ephemeral/PTBI/data/sub-CIF1732/ses-2017-07-04-PTBi004/dwi/dti/dti --mask=/rds/general/project/c3nl_djs_imaging_data/ephemeral/PTBI/data/sub-CIF1732/ses-2017-07-04-PTBi004/dwi/dti/nodif_brain_mask --bvecs=/rds/general/project/c3nl_djs_imaging_data/ephemeral/PTBI/data/sub-CIF1732/ses-2017-07-04-PTBi004/dwi/dti/rotated_bvec --bvals=/rds/general/project/c3nl_djs_imaging_data/ephemeral/PTBI/data/sub-CIF1732/ses-2017-07-04-PTBi004/dwi/dti/ses-2017-07-04-PTBi004_dti.bval -w\n",
      "module load fsl; eddy_correct /rds/general/project/c3nl_djs_imaging_data/ephemeral/PTBI/data/sub-CIF1733/ses-2017-07-04-PTBI104/dwi/dti/sub-CIF1733_ses-2017-07-04-PTBI104_dti.nii /rds/general/project/c3nl_djs_imaging_data/ephemeral/PTBI/data/sub-CIF1733/ses-2017-07-04-PTBI104/dwi/dti/data.nii.gz 0; fslroi /rds/general/project/c3nl_djs_imaging_data/ephemeral/PTBI/data/sub-CIF1733/ses-2017-07-04-PTBI104/dwi/dti/data.nii.gz /rds/general/project/c3nl_djs_imaging_data/ephemeral/PTBI/data/sub-CIF1733/ses-2017-07-04-PTBI104/dwi/dti/nodif.nii.gz 0 1; fdt_rotate_bvecs /rds/general/project/c3nl_djs_imaging_data/ephemeral/PTBI/data/sub-CIF1733/ses-2017-07-04-PTBI104/dwi/dti/sub-CIF1733_ses-2017-07-04-PTBI104_dti.bvec /rds/general/project/c3nl_djs_imaging_data/ephemeral/PTBI/data/sub-CIF1733/ses-2017-07-04-PTBI104/dwi/dti/rotated_bvec /rds/general/project/c3nl_djs_imaging_data/ephemeral/PTBI/data/sub-CIF1733/ses-2017-07-04-PTBI104/dwi/dti/data.ecclog; bet /rds/general/project/c3nl_djs_imaging_data/ephemeral/PTBI/data/sub-CIF1733/ses-2017-07-04-PTBI104/dwi/dti/nodif.nii.gz /rds/general/project/c3nl_djs_imaging_data/ephemeral/PTBI/data/sub-CIF1733/ses-2017-07-04-PTBI104/dwi/dti/nodif_brain -f 0.2 -g  0 -m; mv /rds/general/project/c3nl_djs_imaging_data/ephemeral/PTBI/data/sub-CIF1733/ses-2017-07-04-PTBI104/dwi/dti/sub-CIF1733_ses-2017-07-04-PTBI104_dti.bval /rds/general/project/c3nl_djs_imaging_data/ephemeral/PTBI/data/sub-CIF1733/ses-2017-07-04-PTBI104/dwi/dti/ses-2017-07-04-PTBI104_dti.bval; dtifit --data=/rds/general/project/c3nl_djs_imaging_data/ephemeral/PTBI/data/sub-CIF1733/ses-2017-07-04-PTBI104/dwi/dti/data.nii.gz --out=/rds/general/project/c3nl_djs_imaging_data/ephemeral/PTBI/data/sub-CIF1733/ses-2017-07-04-PTBI104/dwi/dti/dti --mask=/rds/general/project/c3nl_djs_imaging_data/ephemeral/PTBI/data/sub-CIF1733/ses-2017-07-04-PTBI104/dwi/dti/nodif_brain_mask --bvecs=/rds/general/project/c3nl_djs_imaging_data/ephemeral/PTBI/data/sub-CIF1733/ses-2017-07-04-PTBI104/dwi/dti/rotated_bvec --bvals=/rds/general/project/c3nl_djs_imaging_data/ephemeral/PTBI/data/sub-CIF1733/ses-2017-07-04-PTBI104/dwi/dti/ses-2017-07-04-PTBI104_dti.bval -w\n",
      "module load fsl; eddy_correct /rds/general/project/c3nl_djs_imaging_data/ephemeral/PTBI/data/sub-CIF1783/ses-2017-08-14-PTBI_005/dwi/dti/sub-CIF1783_ses-2017-08-14-PTBI_005_dti.nii /rds/general/project/c3nl_djs_imaging_data/ephemeral/PTBI/data/sub-CIF1783/ses-2017-08-14-PTBI_005/dwi/dti/data.nii.gz 0; fslroi /rds/general/project/c3nl_djs_imaging_data/ephemeral/PTBI/data/sub-CIF1783/ses-2017-08-14-PTBI_005/dwi/dti/data.nii.gz /rds/general/project/c3nl_djs_imaging_data/ephemeral/PTBI/data/sub-CIF1783/ses-2017-08-14-PTBI_005/dwi/dti/nodif.nii.gz 0 1; fdt_rotate_bvecs /rds/general/project/c3nl_djs_imaging_data/ephemeral/PTBI/data/sub-CIF1783/ses-2017-08-14-PTBI_005/dwi/dti/sub-CIF1783_ses-2017-08-14-PTBI_005_dti.bvec /rds/general/project/c3nl_djs_imaging_data/ephemeral/PTBI/data/sub-CIF1783/ses-2017-08-14-PTBI_005/dwi/dti/rotated_bvec /rds/general/project/c3nl_djs_imaging_data/ephemeral/PTBI/data/sub-CIF1783/ses-2017-08-14-PTBI_005/dwi/dti/data.ecclog; bet /rds/general/project/c3nl_djs_imaging_data/ephemeral/PTBI/data/sub-CIF1783/ses-2017-08-14-PTBI_005/dwi/dti/nodif.nii.gz /rds/general/project/c3nl_djs_imaging_data/ephemeral/PTBI/data/sub-CIF1783/ses-2017-08-14-PTBI_005/dwi/dti/nodif_brain -f 0.2 -g  0 -m; mv /rds/general/project/c3nl_djs_imaging_data/ephemeral/PTBI/data/sub-CIF1783/ses-2017-08-14-PTBI_005/dwi/dti/sub-CIF1783_ses-2017-08-14-PTBI_005_dti.bval /rds/general/project/c3nl_djs_imaging_data/ephemeral/PTBI/data/sub-CIF1783/ses-2017-08-14-PTBI_005/dwi/dti/ses-2017-08-14-PTBI_005_dti.bval; dtifit --data=/rds/general/project/c3nl_djs_imaging_data/ephemeral/PTBI/data/sub-CIF1783/ses-2017-08-14-PTBI_005/dwi/dti/data.nii.gz --out=/rds/general/project/c3nl_djs_imaging_data/ephemeral/PTBI/data/sub-CIF1783/ses-2017-08-14-PTBI_005/dwi/dti/dti --mask=/rds/general/project/c3nl_djs_imaging_data/ephemeral/PTBI/data/sub-CIF1783/ses-2017-08-14-PTBI_005/dwi/dti/nodif_brain_mask --bvecs=/rds/general/project/c3nl_djs_imaging_data/ephemeral/PTBI/data/sub-CIF1783/ses-2017-08-14-PTBI_005/dwi/dti/rotated_bvec --bvals=/rds/general/project/c3nl_djs_imaging_data/ephemeral/PTBI/data/sub-CIF1783/ses-2017-08-14-PTBI_005/dwi/dti/ses-2017-08-14-PTBI_005_dti.bval -w\n"
     ]
    },
    {
     "name": "stderr",
     "output_type": "stream",
     "text": [
      "ls: cannot access /rds/general/project/c3nl_djs_imaging_data/ephemeral/PTBI/data/sub-CIF0537/ses-2017-03-27-PILOT_AMR/dwi/dti/*dti.ni*: No such file or directory\n",
      "ls: cannot access /rds/general/project/c3nl_djs_imaging_data/ephemeral/PTBI/data/sub-CIF0537/ses-2017-03-27-PILOT_AMR/dwi/dti/*.bvec: No such file or directory\n",
      "ls: cannot access /rds/general/project/c3nl_djs_imaging_data/ephemeral/PTBI/data/sub-CIF0537/ses-2017-03-27-PILOT_AMR/dwi/dti/*.bval: No such file or directory\n"
     ]
    }
   ],
   "source": [
    "%%bash -s \"$setup\"\n",
    "export setup=$1;\n",
    "source ${setup}\n",
    "echo ${workingDir}\n",
    "#----------------\n",
    "\n",
    "echo -n \"\" > ${workingDir}/commandLogs/ec_correct.txt\n",
    "job=${workingDir}/commandLogs/ec_correct.txt\n",
    "\n",
    "for s in `ls -d ${workingDir}/data/*`;\n",
    "    do\n",
    "    subj=`basename ${s}`\n",
    "    for ses in `ls ${workingDir}/data/${subj}`; \n",
    "        do         \n",
    "        path=${workingDir}/data/${subj}/${ses}/dwi/dti\n",
    "        dwi=`ls ${path}/*dti.ni*`\n",
    "        bvec=`ls ${path}/*.bvec`\n",
    "        bval=`ls ${path}/*.bval`\n",
    "    \n",
    "        echo \"${fsl}; eddy_correct ${dwi} ${path}/data.nii.gz 0; fslroi ${path}/data.nii.gz ${path}/nodif.nii.gz 0 1; fdt_rotate_bvecs ${bvec} ${path}/rotated_bvec ${path}/data.ecclog; bet ${path}/nodif.nii.gz ${path}/nodif_brain -f 0.2 -g  0 -m; mv ${bval} ${path}/${ses}_dti.bval; dtifit --data=${path}/data.nii.gz --out=${path}/dti --mask=${path}/nodif_brain_mask --bvecs=${path}/rotated_bvec --bvals=${path}/${ses}_dti.bval -w\"  >> ${job}  \n",
    "\n",
    "    done    \n",
    "done\n",
    "\n",
    "    # Run job\n",
    "    ${dep}/hpcSubmit ${job} 04:00:00 3 6Gb\n",
    "    echo \"\"; echo \"***\"; echo \"\"; echo \"Submitted commands:\"\n",
    "    head ${job}\n",
    " "
   ]
  },
  {
   "cell_type": "markdown",
   "metadata": {},
   "source": [
    "### Check the state of the submitted cluster jobs"
   ]
  },
  {
   "cell_type": "markdown",
   "metadata": {},
   "source": [
    "## Running DTI-TK\n",
    "\n",
    "The Diffusion Tensor Imaging Toolkit (DTI-TK) is an advanced toolkit for optimising DTI analysis. Further information can be found at: http://dti-tk.sourceforge.net/pmwiki/pmwiki.php. Specific information about the tools and commands used in this pipeline can be found in the \"Documentation -> List of tools\" section of the website. \n",
    "\n",
    "This process may take a while, even when submitting through `qsub` or an array job on the HPC.\n",
    "As such it is required to break up into steps (template building done as seperate job).\n",
    "\n",
    "These steps utilise some diffusion imaging templates for the purposes of registering your study data. If you wish to create a study-specific template using DTITK, relevant information can be found here: http://dti-tk.sourceforge.net/pmwiki/pmwiki.php?n=Documentation.Registration\n",
    "\n",
    "**First, convert fsl format data to dtitk format.** *Tip: If you are processing data from separate visits, you could add a visit-specific sub-directory to the code below, so your data is organised correctly.*\n",
    "\n"
   ]
  },
  {
   "cell_type": "code",
   "execution_count": 10,
   "metadata": {},
   "outputs": [
    {
     "name": "stdout",
     "output_type": "stream",
     "text": [
      "/rds/general/project/c3nl_djs_imaging_data/ephemeral/PTBI\n",
      "input is = /rds/general/project/c3nl_djs_imaging_data/ephemeral/PTBI/commandLogs/fsl2tk.txt\n",
      "Walltime = 01:00:00\n",
      "Number of CPUs = 1\n",
      "Memory = 6Gb\n",
      "Array jobs submitted: 60\n",
      "Job submitted: Mon  6 Apr 10:40:25 BST 2020\n",
      "1280300[].pbs\n",
      "\n",
      "***\n",
      "\n",
      "Submitted commands:\n",
      "module load fsl; fsl_to_dtitk /rds/general/project/c3nl_djs_imaging_data/ephemeral/PTBI/data/sub-CIF0537/ses-2017-03-27-PILOT_AMR/dwi/dti/dti\n",
      "module load fsl; fsl_to_dtitk /rds/general/project/c3nl_djs_imaging_data/ephemeral/PTBI/data/sub-CIF1638/ses-2017-03-30-PTBI001/dwi/dti/dti\n",
      "module load fsl; fsl_to_dtitk /rds/general/project/c3nl_djs_imaging_data/ephemeral/PTBI/data/sub-CIF1702/ses-2017-05-31-PTBI003/dwi/dti/dti\n",
      "module load fsl; fsl_to_dtitk /rds/general/project/c3nl_djs_imaging_data/ephemeral/PTBI/data/sub-CIF1703/ses-2017-05-31-PTBI101/dwi/dti/dti\n",
      "module load fsl; fsl_to_dtitk /rds/general/project/c3nl_djs_imaging_data/ephemeral/PTBI/data/sub-CIF1704/ses-2017-06-01-PTBI002/dwi/dti/dti\n",
      "module load fsl; fsl_to_dtitk /rds/general/project/c3nl_djs_imaging_data/ephemeral/PTBI/data/sub-CIF1705/ses-2017-06-01-PTBI102v1/dwi/dti/dti\n",
      "module load fsl; fsl_to_dtitk /rds/general/project/c3nl_djs_imaging_data/ephemeral/PTBI/data/sub-CIF1724/ses-2017-06-23-PTBi103/dwi/dti/dti\n",
      "module load fsl; fsl_to_dtitk /rds/general/project/c3nl_djs_imaging_data/ephemeral/PTBI/data/sub-CIF1732/ses-2017-07-04-PTBi004/dwi/dti/dti\n",
      "module load fsl; fsl_to_dtitk /rds/general/project/c3nl_djs_imaging_data/ephemeral/PTBI/data/sub-CIF1733/ses-2017-07-04-PTBI104/dwi/dti/dti\n",
      "module load fsl; fsl_to_dtitk /rds/general/project/c3nl_djs_imaging_data/ephemeral/PTBI/data/sub-CIF1783/ses-2017-08-14-PTBI_005/dwi/dti/dti\n"
     ]
    }
   ],
   "source": [
    "%%bash -s \"$setup\"\n",
    "export setup=$1;\n",
    "source ${setup}\n",
    "echo ${workingDir}\n",
    "#----------------\n",
    "\n",
    "echo -n \"\" > ${workingDir}/commandLogs/fsl2tk.txt\n",
    "job=${workingDir}/commandLogs/fsl2tk.txt\n",
    "\n",
    "for s in `ls -d ${workingDir}/data/*`;\n",
    "    do\n",
    "    subj=`basename ${s}`\n",
    "    for ses in `ls ${workingDir}/data/${subj}`; \n",
    "        do\n",
    "        echo \"${fsl}; fsl_to_dtitk ${workingDir}/data/${subj}/${ses}/dwi/dti/dti\" >> ${job}\n",
    "    done    \n",
    "done\n",
    "\n",
    "    # Run job\n",
    "    ${dep}/hpcSubmit ${job} 01:00:00 1 6Gb\n",
    "    echo \"\"; echo \"***\"; echo \"\"; echo \"Submitted commands:\"\n",
    "    head ${job}     \n",
    "    "
   ]
  },
  {
   "cell_type": "markdown",
   "metadata": {},
   "source": [
    "#### Build a list of paths for data to process"
   ]
  },
  {
   "cell_type": "code",
   "execution_count": 13,
   "metadata": {},
   "outputs": [
    {
     "name": "stdout",
     "output_type": "stream",
     "text": [
      "/rds/general/project/c3nl_djs_imaging_data/ephemeral/PTBI\n"
     ]
    },
    {
     "name": "stderr",
     "output_type": "stream",
     "text": [
      "ls: cannot access /rds/general/project/c3nl_djs_imaging_data/ephemeral/PTBI/data/sub-CIF0537/ses-2017-03-27-PILOT_AMR/dwi/dti/*_dtitk.nii.gz: No such file or directory\n"
     ]
    }
   ],
   "source": [
    "%%bash -s \"$setup\"\n",
    "export setup=$1;\n",
    "source ${setup}\n",
    "echo ${workingDir}\n",
    "#----------------\n",
    "\n",
    "echo -n \"\" > ${workingDir}/dtitk_subj.txt\n",
    "\n",
    "for s in `ls -d ${workingDir}/data/*`;\n",
    "    do\n",
    "    subj=`basename ${s}`\n",
    "    for ses in `ls ${workingDir}/data/${subj}`; \n",
    "        do\n",
    "        ls ${workingDir}/data/${subj}/${ses}/dwi/dti/*_dtitk.nii.gz >> ${workingDir}/dtitk_subj.txt\n",
    "    done    \n",
    "done\n"
   ]
  },
  {
   "cell_type": "markdown",
   "metadata": {},
   "source": [
    "## Step 1. Initiate bootstrapping to create sample template"
   ]
  },
  {
   "cell_type": "code",
   "execution_count": 16,
   "metadata": {},
   "outputs": [
    {
     "name": "stdout",
     "output_type": "stream",
     "text": [
      "/rds/general/project/c3nl_djs_imaging_data/ephemeral/PTBI\n",
      "1280448.pbs\n",
      "\n",
      "***\n",
      "\n",
      "Submitted commands:\n",
      "module load fsl\n",
      "\n",
      "\n",
      "cd /rds/general/project/c3nl_djs_imaging_data/ephemeral/PTBI/DTITK\n",
      "dti_template_bootstrap /rds/general/project/c3nl_djs_imaging_data/live/analysis/paeds/templates/ixi_aging_template.nii.gz /rds/general/project/c3nl_djs_imaging_data/ephemeral/PTBI/dtitk_subj.txt;\n",
      "echo \"Complete-now performing affine registration\";\n",
      "dti_affine_population mean_initial.nii.gz /rds/general/project/c3nl_djs_imaging_data/ephemeral/PTBI/dtitk_subj.txt EDS 3;\n",
      "echo \"Complete\";\n",
      "TVtool -in mean_affine3.nii.gz -tr;\n",
      "echo \"Creating mask for diffeomorphic registration\";\n"
     ]
    },
    {
     "name": "stderr",
     "output_type": "stream",
     "text": [
      "mkdir: cannot create directory ‘/rds/general/project/c3nl_djs_imaging_data/ephemeral/PTBI/DTITK’: File exists\n"
     ]
    }
   ],
   "source": [
    "%%bash -s \"$setup\"\n",
    "export setup=$1;\n",
    "source ${setup}\n",
    "echo ${workingDir}\n",
    "#----------------\n",
    "\n",
    "echo -n \"\" > ${workingDir}/commandLogs/boot.txt;\n",
    "job=${workingDir}/commandLogs/boot.txt;\n",
    "\n",
    "mkdir ${workingDir}/DTITK\n",
    "DTITK_DATA_DIR=${workingDir}/DTITK\n",
    "\n",
    "\n",
    "# setting up user environment\n",
    "echo \"${fsl}\" >> ${job};\n",
    "echo \"${mricrogl}\" >> ${job};\n",
    "echo \"${dtitk_setup}\" >> ${job};\n",
    "echo \"cd ${DTITK_DATA_DIR}\" >> ${job};\n",
    "\n",
    "# Initiating bootstrapping\n",
    "echo \"dti_template_bootstrap ${templates}/ixi_aging_template.nii.gz ${workingDir}/dtitk_subj.txt;\" >> ${job}; \n",
    "echo 'echo \"Complete-now performing affine registration\";' >> ${job};\n",
    "echo \"dti_affine_population mean_initial.nii.gz ${workingDir}/dtitk_subj.txt EDS 3;\" >> ${job};\n",
    "echo 'echo \"Complete\";' >> ${job};\n",
    "echo \"TVtool -in mean_affine3.nii.gz -tr;\" >> ${job};\n",
    "echo 'echo \"Creating mask for diffeomorphic registration\";' >> ${job};\n",
    "echo \"BinaryThresholdImageFilter mean_affine3_tr.nii.gz mask.nii.gz 0.01 100 1 0;\" >> ${job};\n",
    "   \n",
    "# Run job\n",
    "qsub -lselect=1:ncpus=1:mem=6Gb -l walltime=52:00:00 ${job}   \n",
    "echo \"\"; echo \"***\"; echo \"\"; echo \"Submitted commands:\"\n",
    "head ${job}  "
   ]
  },
  {
   "cell_type": "markdown",
   "metadata": {},
   "source": [
    "## Step 2: Generate registration to template matricies"
   ]
  },
  {
   "cell_type": "code",
   "execution_count": 5,
   "metadata": {},
   "outputs": [
    {
     "name": "stdout",
     "output_type": "stream",
     "text": [
      "/rds/general/project/c3nl_djs_imaging_data/ephemeral/PTBI\n",
      "1289593.pbs\n",
      "\n",
      "***\n",
      "\n",
      "Submitted commands:\n",
      "module load fsl\n",
      "module load mricogl\n",
      "export DTITK_ROOT=/apps/dti-tk/2.3.1/; export PATH=/apps/jupyterhub/latest:/bin:/usr/bin:/sbin:/usr/sbin:/opt/pbs/default/bin:/usr/local/bin:/apps/dti-tk/2.3.1//bin:/apps/dti-tk/2.3.1//utilities:/apps/dti-tk/2.3.1//scripts:/apps/dti-tk/2.3.1//lib:/apps/dti-tk/2.3.1//include\n",
      "cd /rds/general/project/c3nl_djs_imaging_data/ephemeral/PTBI/DTITK\n",
      "echo \"Diffeomorphic registration to IITmeantensor256\";\n",
      "dti_diffeomorphic_reg /rds/general/project/c3nl_djs_imaging_data/live/analysis/paeds/templates/IITmean_tensor_256.nii mean_diffeomorphic_initial6_aff.nii.gz /rds/general/project/c3nl_djs_imaging_data/live/analysis/paeds/templates/IITmean_tensor_mask_256.nii.gz 1 6 0.002;\n",
      "dfRightComposeAffine -aff mean_diffeomorphic_initial6.aff -df mean_diffeomorphic_initial6_aff_diffeo.df.nii.gz -out mean_combined.df.nii.gz;\n"
     ]
    }
   ],
   "source": [
    "%%bash -s \"$setup\"\n",
    "export setup=$1;\n",
    "source ${setup}\n",
    "echo ${workingDir}\n",
    "#----------------\n",
    "\n",
    "echo -n \"\" > ${workingDir}/commandLogs/DTITKJob.txt;\n",
    "job=${workingDir}/commandLogs/DTITKJob.txt;\n",
    "DTITK_DATA_DIR=${workingDir}/DTITK\n",
    "\n",
    "# setting up user environment\n",
    "echo \"${fsl}\" >> ${job};\n",
    "echo \"${mricrogl}\" >> ${job};\n",
    "echo \"${dtitk_setup}\" >> ${job};\n",
    "echo \"cd ${DTITK_DATA_DIR}\" >> ${job};\n",
    "\n",
    "# Running registration\n",
    "echo 'echo \"Running diffeomorphic registration\";' >> ${job};\n",
    "echo \"dti_diffeomorphic_population mean_affine3.nii.gz ${workingDir}/dtitk_subj_aff.txt mask.nii.gz 0.002;\" >> ${job};\n",
    "echo 'echo \"Complete\";' >> ${job};\n",
    "\n",
    "echo 'echo \"Making images 1mm isotropic\";' >> ${job};\n",
    "echo \"dti_warp_to_template_group ${workingDir}/dtitk_subj.txt mean_diffeomorphic_initial6.nii.gz 1 1 1;\" >> ${job};\n",
    "\n",
    "echo 'echo \"Combining the affine and diffeomorphic registrations\";' >> ${job};\n",
    "echo \"for f in \\`cat ${workingDir}/dtitk_subj.txt\\`; do echo \\${f/.nii.gz/}; done > ${workingDir}/DTI_subjects_combined.txt;\" >> ${job};\n",
    "echo \"for f in \\`cat ${workingDir}/DTI_subjects_combined.txt\\`; do dfRightComposeAffine -aff \\${f}.aff -df \\${f}_aff_diffeo.df.nii.gz -out \\${f}_combined.df.nii.gz; done;\" >> ${job}; \n",
    "\n",
    "echo 'echo \"Rigid registration to IITmeantensor256-MNI space\";' >> ${job};\n",
    "echo \"dti_rigid_reg ${templates}/IITmean_tensor_256.nii mean_diffeomorphic_initial6.nii.gz EDS 4 4 4 0.001;\" >> ${job};\n",
    "\n",
    "echo 'echo \"Affine registration to IITmeantensor256\";' >> ${job};\n",
    "echo \"dti_affine_reg ${templates}/IITmean_tensor_256.nii mean_diffeomorphic_initial6.nii.gz EDS 4 4 4 0.001 1;\" >> ${job};\n",
    "\n",
    "echo 'echo \"Diffeomorphic registration to IITmeantensor256\";' >> ${job};\n",
    "echo \"dti_diffeomorphic_reg ${templates}/IITmean_tensor_256.nii mean_diffeomorphic_initial6_aff.nii.gz ${templates}/IITmean_tensor_mask_256.nii.gz 1 6 0.002;\" >> ${job};\n",
    "echo \"dfRightComposeAffine -aff mean_diffeomorphic_initial6.aff -df mean_diffeomorphic_initial6_aff_diffeo.df.nii.gz -out mean_combined.df.nii.gz;\" >> ${job};\n",
    "\n",
    "\n",
    "# Run job\n",
    "qsub -lselect=1:ncpus=1:mem=6Gb -l walltime=52:00:00 ${job}   \n",
    "echo \"\"; echo \"***\"; echo \"\"; echo \"Submitted commands:\"\n",
    "head ${job}  "
   ]
  },
  {
   "cell_type": "markdown",
   "metadata": {},
   "source": [
    "## Step 3. Moving images to standard space using the translation matricies derived above"
   ]
  },
  {
   "cell_type": "code",
   "execution_count": 6,
   "metadata": {},
   "outputs": [
    {
     "name": "stdout",
     "output_type": "stream",
     "text": [
      "/rds/general/project/c3nl_djs_imaging_data/ephemeral/PTBI\n",
      "input is = /rds/general/project/c3nl_djs_imaging_data/ephemeral/PTBI/commandLogs/DTITK_reg_Job.txt\n",
      "Walltime = 06:00:00\n",
      "Number of CPUs = 3\n",
      "Memory = 12Gb\n",
      "Array jobs submitted: 59\n",
      "Job submitted: Wed  8 Apr 13:00:07 BST 2020\n",
      "1289770[].pbs\n",
      "\n",
      "***\n",
      "\n",
      "Submitted commands:\n",
      "module load fsl; module load mricogl; export DTITK_ROOT=/apps/dti-tk/2.3.1/; export PATH=/apps/jupyterhub/latest:/bin:/usr/bin:/sbin:/usr/sbin:/opt/pbs/default/bin:/usr/local/bin:/apps/dti-tk/2.3.1//bin:/apps/dti-tk/2.3.1//utilities:/apps/dti-tk/2.3.1//scripts:/apps/dti-tk/2.3.1//lib:/apps/dti-tk/2.3.1//include; cd /rds/general/project/c3nl_djs_imaging_data/ephemeral/PTBI/DTITK; dfComposition -df2 /rds/general/project/c3nl_djs_imaging_data/ephemeral/PTBI/data/sub-CIF1638/ses-2017-03-30-PTBI001/dwi/dti/dti_dtitk_combined.df.nii.gz -df1 mean_combined.df.nii.gz -out /rds/general/project/c3nl_djs_imaging_data/ephemeral/PTBI/data/sub-CIF1638/ses-2017-03-30-PTBI001/dwi/dti/dti_dtitk_to_standard.df.nii.gz; deformationSymTensor3DVolume -in /rds/general/project/c3nl_djs_imaging_data/ephemeral/PTBI/data/sub-CIF1638/ses-2017-03-30-PTBI001/dwi/dti/dti_dtitk.nii.gz -trans /rds/general/project/c3nl_djs_imaging_data/ephemeral/PTBI/data/sub-CIF1638/ses-2017-03-30-PTBI001/dwi/dti/dti_dtitk_to_standard.df.nii.gz -target /rds/general/project/c3nl_djs_imaging_data/live/analysis/paeds/templates/IITmean_tensor_256.nii -out /rds/general/project/c3nl_djs_imaging_data/ephemeral/PTBI/data/sub-CIF1638/ses-2017-03-30-PTBI001/dwi/dti/dti_dtitk_to_standard.nii.gz;\n",
      "module load fsl; module load mricogl; export DTITK_ROOT=/apps/dti-tk/2.3.1/; export PATH=/apps/jupyterhub/latest:/bin:/usr/bin:/sbin:/usr/sbin:/opt/pbs/default/bin:/usr/local/bin:/apps/dti-tk/2.3.1//bin:/apps/dti-tk/2.3.1//utilities:/apps/dti-tk/2.3.1//scripts:/apps/dti-tk/2.3.1//lib:/apps/dti-tk/2.3.1//include; cd /rds/general/project/c3nl_djs_imaging_data/ephemeral/PTBI/DTITK; dfComposition -df2 /rds/general/project/c3nl_djs_imaging_data/ephemeral/PTBI/data/sub-CIF1702/ses-2017-05-31-PTBI003/dwi/dti/dti_dtitk_combined.df.nii.gz -df1 mean_combined.df.nii.gz -out /rds/general/project/c3nl_djs_imaging_data/ephemeral/PTBI/data/sub-CIF1702/ses-2017-05-31-PTBI003/dwi/dti/dti_dtitk_to_standard.df.nii.gz; deformationSymTensor3DVolume -in /rds/general/project/c3nl_djs_imaging_data/ephemeral/PTBI/data/sub-CIF1702/ses-2017-05-31-PTBI003/dwi/dti/dti_dtitk.nii.gz -trans /rds/general/project/c3nl_djs_imaging_data/ephemeral/PTBI/data/sub-CIF1702/ses-2017-05-31-PTBI003/dwi/dti/dti_dtitk_to_standard.df.nii.gz -target /rds/general/project/c3nl_djs_imaging_data/live/analysis/paeds/templates/IITmean_tensor_256.nii -out /rds/general/project/c3nl_djs_imaging_data/ephemeral/PTBI/data/sub-CIF1702/ses-2017-05-31-PTBI003/dwi/dti/dti_dtitk_to_standard.nii.gz;\n",
      "module load fsl; module load mricogl; export DTITK_ROOT=/apps/dti-tk/2.3.1/; export PATH=/apps/jupyterhub/latest:/bin:/usr/bin:/sbin:/usr/sbin:/opt/pbs/default/bin:/usr/local/bin:/apps/dti-tk/2.3.1//bin:/apps/dti-tk/2.3.1//utilities:/apps/dti-tk/2.3.1//scripts:/apps/dti-tk/2.3.1//lib:/apps/dti-tk/2.3.1//include; cd /rds/general/project/c3nl_djs_imaging_data/ephemeral/PTBI/DTITK; dfComposition -df2 /rds/general/project/c3nl_djs_imaging_data/ephemeral/PTBI/data/sub-CIF1703/ses-2017-05-31-PTBI101/dwi/dti/dti_dtitk_combined.df.nii.gz -df1 mean_combined.df.nii.gz -out /rds/general/project/c3nl_djs_imaging_data/ephemeral/PTBI/data/sub-CIF1703/ses-2017-05-31-PTBI101/dwi/dti/dti_dtitk_to_standard.df.nii.gz; deformationSymTensor3DVolume -in /rds/general/project/c3nl_djs_imaging_data/ephemeral/PTBI/data/sub-CIF1703/ses-2017-05-31-PTBI101/dwi/dti/dti_dtitk.nii.gz -trans /rds/general/project/c3nl_djs_imaging_data/ephemeral/PTBI/data/sub-CIF1703/ses-2017-05-31-PTBI101/dwi/dti/dti_dtitk_to_standard.df.nii.gz -target /rds/general/project/c3nl_djs_imaging_data/live/analysis/paeds/templates/IITmean_tensor_256.nii -out /rds/general/project/c3nl_djs_imaging_data/ephemeral/PTBI/data/sub-CIF1703/ses-2017-05-31-PTBI101/dwi/dti/dti_dtitk_to_standard.nii.gz;\n",
      "module load fsl; module load mricogl; export DTITK_ROOT=/apps/dti-tk/2.3.1/; export PATH=/apps/jupyterhub/latest:/bin:/usr/bin:/sbin:/usr/sbin:/opt/pbs/default/bin:/usr/local/bin:/apps/dti-tk/2.3.1//bin:/apps/dti-tk/2.3.1//utilities:/apps/dti-tk/2.3.1//scripts:/apps/dti-tk/2.3.1//lib:/apps/dti-tk/2.3.1//include; cd /rds/general/project/c3nl_djs_imaging_data/ephemeral/PTBI/DTITK; dfComposition -df2 /rds/general/project/c3nl_djs_imaging_data/ephemeral/PTBI/data/sub-CIF1704/ses-2017-06-01-PTBI002/dwi/dti/dti_dtitk_combined.df.nii.gz -df1 mean_combined.df.nii.gz -out /rds/general/project/c3nl_djs_imaging_data/ephemeral/PTBI/data/sub-CIF1704/ses-2017-06-01-PTBI002/dwi/dti/dti_dtitk_to_standard.df.nii.gz; deformationSymTensor3DVolume -in /rds/general/project/c3nl_djs_imaging_data/ephemeral/PTBI/data/sub-CIF1704/ses-2017-06-01-PTBI002/dwi/dti/dti_dtitk.nii.gz -trans /rds/general/project/c3nl_djs_imaging_data/ephemeral/PTBI/data/sub-CIF1704/ses-2017-06-01-PTBI002/dwi/dti/dti_dtitk_to_standard.df.nii.gz -target /rds/general/project/c3nl_djs_imaging_data/live/analysis/paeds/templates/IITmean_tensor_256.nii -out /rds/general/project/c3nl_djs_imaging_data/ephemeral/PTBI/data/sub-CIF1704/ses-2017-06-01-PTBI002/dwi/dti/dti_dtitk_to_standard.nii.gz;\n",
      "module load fsl; module load mricogl; export DTITK_ROOT=/apps/dti-tk/2.3.1/; export PATH=/apps/jupyterhub/latest:/bin:/usr/bin:/sbin:/usr/sbin:/opt/pbs/default/bin:/usr/local/bin:/apps/dti-tk/2.3.1//bin:/apps/dti-tk/2.3.1//utilities:/apps/dti-tk/2.3.1//scripts:/apps/dti-tk/2.3.1//lib:/apps/dti-tk/2.3.1//include; cd /rds/general/project/c3nl_djs_imaging_data/ephemeral/PTBI/DTITK; dfComposition -df2 /rds/general/project/c3nl_djs_imaging_data/ephemeral/PTBI/data/sub-CIF1705/ses-2017-06-01-PTBI102v1/dwi/dti/dti_dtitk_combined.df.nii.gz -df1 mean_combined.df.nii.gz -out /rds/general/project/c3nl_djs_imaging_data/ephemeral/PTBI/data/sub-CIF1705/ses-2017-06-01-PTBI102v1/dwi/dti/dti_dtitk_to_standard.df.nii.gz; deformationSymTensor3DVolume -in /rds/general/project/c3nl_djs_imaging_data/ephemeral/PTBI/data/sub-CIF1705/ses-2017-06-01-PTBI102v1/dwi/dti/dti_dtitk.nii.gz -trans /rds/general/project/c3nl_djs_imaging_data/ephemeral/PTBI/data/sub-CIF1705/ses-2017-06-01-PTBI102v1/dwi/dti/dti_dtitk_to_standard.df.nii.gz -target /rds/general/project/c3nl_djs_imaging_data/live/analysis/paeds/templates/IITmean_tensor_256.nii -out /rds/general/project/c3nl_djs_imaging_data/ephemeral/PTBI/data/sub-CIF1705/ses-2017-06-01-PTBI102v1/dwi/dti/dti_dtitk_to_standard.nii.gz;\n",
      "module load fsl; module load mricogl; export DTITK_ROOT=/apps/dti-tk/2.3.1/; export PATH=/apps/jupyterhub/latest:/bin:/usr/bin:/sbin:/usr/sbin:/opt/pbs/default/bin:/usr/local/bin:/apps/dti-tk/2.3.1//bin:/apps/dti-tk/2.3.1//utilities:/apps/dti-tk/2.3.1//scripts:/apps/dti-tk/2.3.1//lib:/apps/dti-tk/2.3.1//include; cd /rds/general/project/c3nl_djs_imaging_data/ephemeral/PTBI/DTITK; dfComposition -df2 /rds/general/project/c3nl_djs_imaging_data/ephemeral/PTBI/data/sub-CIF1724/ses-2017-06-23-PTBi103/dwi/dti/dti_dtitk_combined.df.nii.gz -df1 mean_combined.df.nii.gz -out /rds/general/project/c3nl_djs_imaging_data/ephemeral/PTBI/data/sub-CIF1724/ses-2017-06-23-PTBi103/dwi/dti/dti_dtitk_to_standard.df.nii.gz; deformationSymTensor3DVolume -in /rds/general/project/c3nl_djs_imaging_data/ephemeral/PTBI/data/sub-CIF1724/ses-2017-06-23-PTBi103/dwi/dti/dti_dtitk.nii.gz -trans /rds/general/project/c3nl_djs_imaging_data/ephemeral/PTBI/data/sub-CIF1724/ses-2017-06-23-PTBi103/dwi/dti/dti_dtitk_to_standard.df.nii.gz -target /rds/general/project/c3nl_djs_imaging_data/live/analysis/paeds/templates/IITmean_tensor_256.nii -out /rds/general/project/c3nl_djs_imaging_data/ephemeral/PTBI/data/sub-CIF1724/ses-2017-06-23-PTBi103/dwi/dti/dti_dtitk_to_standard.nii.gz;\n",
      "module load fsl; module load mricogl; export DTITK_ROOT=/apps/dti-tk/2.3.1/; export PATH=/apps/jupyterhub/latest:/bin:/usr/bin:/sbin:/usr/sbin:/opt/pbs/default/bin:/usr/local/bin:/apps/dti-tk/2.3.1//bin:/apps/dti-tk/2.3.1//utilities:/apps/dti-tk/2.3.1//scripts:/apps/dti-tk/2.3.1//lib:/apps/dti-tk/2.3.1//include; cd /rds/general/project/c3nl_djs_imaging_data/ephemeral/PTBI/DTITK; dfComposition -df2 /rds/general/project/c3nl_djs_imaging_data/ephemeral/PTBI/data/sub-CIF1732/ses-2017-07-04-PTBi004/dwi/dti/dti_dtitk_combined.df.nii.gz -df1 mean_combined.df.nii.gz -out /rds/general/project/c3nl_djs_imaging_data/ephemeral/PTBI/data/sub-CIF1732/ses-2017-07-04-PTBi004/dwi/dti/dti_dtitk_to_standard.df.nii.gz; deformationSymTensor3DVolume -in /rds/general/project/c3nl_djs_imaging_data/ephemeral/PTBI/data/sub-CIF1732/ses-2017-07-04-PTBi004/dwi/dti/dti_dtitk.nii.gz -trans /rds/general/project/c3nl_djs_imaging_data/ephemeral/PTBI/data/sub-CIF1732/ses-2017-07-04-PTBi004/dwi/dti/dti_dtitk_to_standard.df.nii.gz -target /rds/general/project/c3nl_djs_imaging_data/live/analysis/paeds/templates/IITmean_tensor_256.nii -out /rds/general/project/c3nl_djs_imaging_data/ephemeral/PTBI/data/sub-CIF1732/ses-2017-07-04-PTBi004/dwi/dti/dti_dtitk_to_standard.nii.gz;\n",
      "module load fsl; module load mricogl; export DTITK_ROOT=/apps/dti-tk/2.3.1/; export PATH=/apps/jupyterhub/latest:/bin:/usr/bin:/sbin:/usr/sbin:/opt/pbs/default/bin:/usr/local/bin:/apps/dti-tk/2.3.1//bin:/apps/dti-tk/2.3.1//utilities:/apps/dti-tk/2.3.1//scripts:/apps/dti-tk/2.3.1//lib:/apps/dti-tk/2.3.1//include; cd /rds/general/project/c3nl_djs_imaging_data/ephemeral/PTBI/DTITK; dfComposition -df2 /rds/general/project/c3nl_djs_imaging_data/ephemeral/PTBI/data/sub-CIF1733/ses-2017-07-04-PTBI104/dwi/dti/dti_dtitk_combined.df.nii.gz -df1 mean_combined.df.nii.gz -out /rds/general/project/c3nl_djs_imaging_data/ephemeral/PTBI/data/sub-CIF1733/ses-2017-07-04-PTBI104/dwi/dti/dti_dtitk_to_standard.df.nii.gz; deformationSymTensor3DVolume -in /rds/general/project/c3nl_djs_imaging_data/ephemeral/PTBI/data/sub-CIF1733/ses-2017-07-04-PTBI104/dwi/dti/dti_dtitk.nii.gz -trans /rds/general/project/c3nl_djs_imaging_data/ephemeral/PTBI/data/sub-CIF1733/ses-2017-07-04-PTBI104/dwi/dti/dti_dtitk_to_standard.df.nii.gz -target /rds/general/project/c3nl_djs_imaging_data/live/analysis/paeds/templates/IITmean_tensor_256.nii -out /rds/general/project/c3nl_djs_imaging_data/ephemeral/PTBI/data/sub-CIF1733/ses-2017-07-04-PTBI104/dwi/dti/dti_dtitk_to_standard.nii.gz;\n",
      "module load fsl; module load mricogl; export DTITK_ROOT=/apps/dti-tk/2.3.1/; export PATH=/apps/jupyterhub/latest:/bin:/usr/bin:/sbin:/usr/sbin:/opt/pbs/default/bin:/usr/local/bin:/apps/dti-tk/2.3.1//bin:/apps/dti-tk/2.3.1//utilities:/apps/dti-tk/2.3.1//scripts:/apps/dti-tk/2.3.1//lib:/apps/dti-tk/2.3.1//include; cd /rds/general/project/c3nl_djs_imaging_data/ephemeral/PTBI/DTITK; dfComposition -df2 /rds/general/project/c3nl_djs_imaging_data/ephemeral/PTBI/data/sub-CIF1783/ses-2017-08-14-PTBI_005/dwi/dti/dti_dtitk_combined.df.nii.gz -df1 mean_combined.df.nii.gz -out /rds/general/project/c3nl_djs_imaging_data/ephemeral/PTBI/data/sub-CIF1783/ses-2017-08-14-PTBI_005/dwi/dti/dti_dtitk_to_standard.df.nii.gz; deformationSymTensor3DVolume -in /rds/general/project/c3nl_djs_imaging_data/ephemeral/PTBI/data/sub-CIF1783/ses-2017-08-14-PTBI_005/dwi/dti/dti_dtitk.nii.gz -trans /rds/general/project/c3nl_djs_imaging_data/ephemeral/PTBI/data/sub-CIF1783/ses-2017-08-14-PTBI_005/dwi/dti/dti_dtitk_to_standard.df.nii.gz -target /rds/general/project/c3nl_djs_imaging_data/live/analysis/paeds/templates/IITmean_tensor_256.nii -out /rds/general/project/c3nl_djs_imaging_data/ephemeral/PTBI/data/sub-CIF1783/ses-2017-08-14-PTBI_005/dwi/dti/dti_dtitk_to_standard.nii.gz;\n",
      "module load fsl; module load mricogl; export DTITK_ROOT=/apps/dti-tk/2.3.1/; export PATH=/apps/jupyterhub/latest:/bin:/usr/bin:/sbin:/usr/sbin:/opt/pbs/default/bin:/usr/local/bin:/apps/dti-tk/2.3.1//bin:/apps/dti-tk/2.3.1//utilities:/apps/dti-tk/2.3.1//scripts:/apps/dti-tk/2.3.1//lib:/apps/dti-tk/2.3.1//include; cd /rds/general/project/c3nl_djs_imaging_data/ephemeral/PTBI/DTITK; dfComposition -df2 /rds/general/project/c3nl_djs_imaging_data/ephemeral/PTBI/data/sub-CIF1803/ses-2017-09-18-PTBI_007/dwi/dti/dti_dtitk_combined.df.nii.gz -df1 mean_combined.df.nii.gz -out /rds/general/project/c3nl_djs_imaging_data/ephemeral/PTBI/data/sub-CIF1803/ses-2017-09-18-PTBI_007/dwi/dti/dti_dtitk_to_standard.df.nii.gz; deformationSymTensor3DVolume -in /rds/general/project/c3nl_djs_imaging_data/ephemeral/PTBI/data/sub-CIF1803/ses-2017-09-18-PTBI_007/dwi/dti/dti_dtitk.nii.gz -trans /rds/general/project/c3nl_djs_imaging_data/ephemeral/PTBI/data/sub-CIF1803/ses-2017-09-18-PTBI_007/dwi/dti/dti_dtitk_to_standard.df.nii.gz -target /rds/general/project/c3nl_djs_imaging_data/live/analysis/paeds/templates/IITmean_tensor_256.nii -out /rds/general/project/c3nl_djs_imaging_data/ephemeral/PTBI/data/sub-CIF1803/ses-2017-09-18-PTBI_007/dwi/dti/dti_dtitk_to_standard.nii.gz;\n"
     ]
    }
   ],
   "source": [
    "%%bash -s \"$setup\"\n",
    "export setup=$1;\n",
    "source ${setup}\n",
    "echo ${workingDir}\n",
    "#----------------\n",
    "\n",
    "echo -n \"\" > ${workingDir}/commandLogs/DTITK_reg_Job.txt;\n",
    "job=${workingDir}/commandLogs/DTITK_reg_Job.txt;\n",
    "DTITK_DATA_DIR=${workingDir}/DTITK\n",
    "\n",
    "# setting up user environment\n",
    "# echo \"${fsl}\" >> ${job};\n",
    "# echo \"${mricrogl}\" >> ${job};\n",
    "# echo \"${dtitk_setup}\" >> ${job};\n",
    "# echo \"cd ${DTITK_DATA_DIR}\" >> ${job};\n",
    "\n",
    "\n",
    "# Running registration\n",
    "# (take the raw data and use the combination of translations to move to standard space in a single step)\n",
    "\n",
    "for f in `cat ${workingDir}/DTI_subjects_combined.txt`; \n",
    "    do \n",
    "    echo \"${fsl}; ${mricrogl}; ${dtitk_setup}; cd ${DTITK_DATA_DIR}; dfComposition -df2 ${f}_combined.df.nii.gz -df1 mean_combined.df.nii.gz -out ${f}_to_standard.df.nii.gz; deformationSymTensor3DVolume -in ${f}.nii.gz -trans ${f}_to_standard.df.nii.gz -target ${templates}/IITmean_tensor_256.nii -out ${f}_to_standard.nii.gz;\" >> ${job};\n",
    "done\n",
    "\n",
    "\n",
    "# echo 'echo \"Transforming subjects from native to standard space\";' >> ${job};\n",
    "# echo \"for f in \\`cat ${workingDir}/DTI_subjects_combined.txt\\`; do dfComposition -df2 \\${f}_combined.df.nii.gz -df1 mean_combined.df.nii.gz -out \\${f}_to_standard.df.nii.gz; done;\" >> ${job};\n",
    "# echo \"for f in \\`cat ${workingDir}/DTI_subjects_combined.txt\\`; do deformationSymTensor3DVolume -in \\${f}.nii.gz -trans \\${f}_to_standard.df.nii.gz -target ${templates}/IITmean_tensor_256.nii -out \\${f}_to_standard.nii.gz; done;\" >> ${job}; \n",
    "\n",
    "\n",
    "    # Run job\n",
    "    ${dep}/hpcSubmit ${job} 06:00:00 3 12Gb\n",
    "    echo \"\"; echo \"***\"; echo \"\"; echo \"Submitted commands:\"\n",
    "    head ${job}\n",
    "    "
   ]
  },
  {
   "cell_type": "markdown",
   "metadata": {},
   "source": [
    "# TBSS pipeline (with DTITK registered data)"
   ]
  },
  {
   "cell_type": "code",
   "execution_count": 4,
   "metadata": {},
   "outputs": [
    {
     "name": "stdout",
     "output_type": "stream",
     "text": [
      "/rds/general/project/c3nl_djs_imaging_data/ephemeral/PTBI\n",
      "1293456.pbs\n",
      "\n",
      "***\n",
      "\n",
      "Submitted commands:\n",
      "module load mricogl\n",
      "export DTITK_ROOT=/apps/dti-tk/2.3.1/; export PATH=/apps/jupyterhub/latest:/bin:/usr/bin:/sbin:/usr/sbin:/opt/pbs/default/bin:/usr/local/bin:/apps/dti-tk/2.3.1//bin:/apps/dti-tk/2.3.1//utilities:/apps/dti-tk/2.3.1//scripts:/apps/dti-tk/2.3.1//lib:/apps/dti-tk/2.3.1//include\n",
      "module load fsl\n",
      "cd /rds/general/project/c3nl_djs_imaging_data/ephemeral/PTBI/DTITK\n",
      "cd TBSS/;\n",
      "tbss_4_prestats 0.2;\n",
      "echo \"Done - Ready for TBSS or single subject statistics\"\n"
     ]
    },
    {
     "name": "stderr",
     "output_type": "stream",
     "text": [
      "ls: cannot access /rds/general/project/c3nl_djs_imaging_data/ephemeral/PTBI/data/sub-CIF0537/ses-2017-03-27-PILOT_AMR/dwi/dti/dti_dtitk_to_standard.nii.gz: No such file or directory\n"
     ]
    }
   ],
   "source": [
    "%%bash -s \"$setup\"\n",
    "export setup=$1;\n",
    "source ${setup}\n",
    "echo ${workingDir}\n",
    "#----------------\n",
    "\n",
    "echo -n \"\" > ${workingDir}/commandLogs/TBSS_Job.txt;\n",
    "job=${workingDir}/commandLogs/TBSS_Job.txt;\n",
    "DTITK_DATA_DIR=${workingDir}/DTITK\n",
    "\n",
    "\n",
    "echo -n \"\" > ${workingDir}/DTI_subjs_normalised256.txt\n",
    "echo -n \"\" > ${workingDir}/fa_normalised256.txt\n",
    "for s in `ls -d ${workingDir}/data/*`;\n",
    "    do\n",
    "    subj=`basename ${s}`\n",
    "    for ses in `ls ${workingDir}/data/${subj}`; \n",
    "        do\n",
    "        ls ${workingDir}/data/${subj}/${ses}/dwi/dti/dti_dtitk_to_standard.nii.gz >> ${workingDir}/DTI_subjs_normalised256.txt\n",
    "        ls ${workingDir}/data/${subj}/${ses}/dwi/dti/dti_dtitk_to_standard_fa.nii.gz >> ${workingDir}/fa_normalised256.txt\n",
    "    done    \n",
    "    done    \n",
    "done\n",
    "\n",
    "# setting up user environment\n",
    "echo \"${mricrogl}\" >> ${job};\n",
    "echo \"${dtitk_setup}\" >> ${job};\n",
    "echo \"${fsl}\" >> ${job}; # needs to be loaded after messing with paths in dtitk_setup\n",
    "echo \"cd ${DTITK_DATA_DIR}\" >> ${job};\n",
    "\n",
    "# echo 'echo \"Creating 4D file of all subjects registrations to standard space for QC\";' >> ${job};\n",
    "# echo \"fslmerge -t all_subjs_to_standard_tensor.nii.gz \\`cat ${workingDir}/DTI_subjs_normalised256.txt\\`;\" >> ${job};\n",
    "\n",
    "# echo 'echo \"Creating mean tensor image for subjects\";' >> ${job};\n",
    "# #echo \"for f in *_to_standard.nii.gz; do echo \\${f}; done > DTI_subjs_normalised256.txt;\" >> ${job};\n",
    "# echo \"TVMean -in ${workingDir}/DTI_subjs_normalised256.txt -out mean_final_high_res.nii.gz;\" >> ${job};\n",
    "\n",
    "# echo 'echo \"Creating mean FA image for all subjects\";' >> ${job};\n",
    "# echo \"TVtool -in mean_final_high_res.nii.gz -fa;\" >> ${job};\n",
    "# echo \"cp mean_final_high_res_fa.nii.gz mean_FA.nii.gz;\" >> ${job};\n",
    "\n",
    "# # For some reason fsl wasnt being loaded and broke at this point. \n",
    "# echo \"tbss_skeleton -i mean_FA.nii.gz -o mean_FA_skeleton;\" >> ${job};\n",
    "# echo 'echo \"Creating individuals FA maps normalised to standard space\";' >> ${job};\n",
    "# echo \"for f in \\`cat ${workingDir}/DTI_subjs_normalised256.txt\\`; do TVtool -in \\${f} -fa;TVtool -in \\${f} -tr; done;\" >> ${job};\n",
    "# echo 'echo \"Creating MD maps normalised to standard space\";' >> ${job};\n",
    "# echo \"for f in \\`cat ${workingDir}/DTI_subjs_normalised256.txt\\`; do  MDsubj=\\${f%_to_standard.nii.gz}; fslmaths \\${MDsubj}_to_standard_tr.nii.gz -div 3 \\${MDsubj}_to_standard_md.nii.gz; done;\" >> ${job};\n",
    "\n",
    "\n",
    "echo \"fslmerge -t all_FA.nii.gz \\`cat ${workingDir}/fa_normalised256.txt\\`;\" >> ${job};\n",
    "echo 'echo \"Creating TBSS directories for TBSS processing step 4 and statistics\";' >> ${job};\n",
    "echo \"mkdir TBSS;\" >> ${job};\n",
    "echo \"mkdir TBSS/FA;\" >> ${job};\n",
    "echo \"mkdir TBSS/stats;\" >> ${job};\n",
    "echo \"cp ${templates}/IITmean_tensor_256.nii TBSS/FA/target.nii.gz;\" >> ${job};\n",
    "echo \"cp all_FA.nii.gz TBSS/stats/;\" >> ${job};\n",
    "echo \"cp mean_FA* TBSS/stats/;\" >> ${job};\n",
    "echo \"fslmaths all_FA -max 0 -Tmin -bin mean_FA_mask -odt char;\" >> ${job};\n",
    "echo \"cp mean_FA_mask.nii.gz TBSS/stats/;\" >> ${job};\n",
    "echo \"cd TBSS/;\" >> ${job};\n",
    "echo \"tbss_4_prestats 0.2;\" >> ${job};\n",
    "echo 'echo \"Done - Ready for TBSS or single subject statistics\"' >> ${job};\n",
    "\n",
    "# Run job\n",
    "qsub -lselect=1:ncpus=1:mem=44Gb -l walltime=32:00:00 ${job}   \n",
    "echo \"\"; echo \"***\"; echo \"\"; echo \"Submitted commands:\"\n",
    "head ${job} "
   ]
  },
  {
   "cell_type": "markdown",
   "metadata": {},
   "source": [
    "## ROI\n",
    "These are select examples from social papers "
   ]
  },
  {
   "cell_type": "code",
   "execution_count": 2,
   "metadata": {},
   "outputs": [
    {
     "name": "stdout",
     "output_type": "stream",
     "text": [
      "\n",
      "******************************\n",
      "Input image: /rds/general/user/nbourke/home/templates/MNI152_T1_1mm.nii.gz \n",
      "ROI coordinates: 88 150 89 \n",
      "ROI size: 5 \n",
      "Done! The output file is called 'mask_sphere_88-150-89_5mm' \n",
      " \n",
      "******************************\n",
      "Input image: /rds/general/user/nbourke/home/templates/MNI152_T1_1mm.nii.gz \n",
      "ROI coordinates: 87 166 113 \n",
      "ROI size: 5 \n",
      "Done! The output file is called 'mask_sphere_87-166-113_5mm' \n",
      " \n",
      "******************************\n",
      "Input image: /rds/general/user/nbourke/home/templates/MNI152_T1_1mm.nii.gz \n",
      "ROI coordinates: 93 134 61 \n",
      "ROI size: 5 \n",
      "Done! The output file is called 'mask_sphere_93-134-61_5mm' \n",
      " \n"
     ]
    },
    {
     "name": "stderr",
     "output_type": "stream",
     "text": [
      "bash: line 10: make_sphere_roi: command not found\n",
      "WARNING: $PATH does not agree with $PATH_modshare counter. The following directories' usage counters were adjusted to match. Note that this may mean that module unloading may not work correctly.\n",
      " /home/nbourke/anaconda3/envs/py27/bin /apps/gcc/6.2.0/ /opt/ibutils/bin /rds/general/user/nbourke/home/anaconda3/bin /apps/mrtrix/3.0/bin /apps/ants/2015-02-23/bin/bin /apps/gcc/6.2.0/bin /usr/local/sbin /opt/pbs/bin /usr/lib64/qt-3.3/bin /apps/ants/2015-02-23/bin/ /rds/general/user/nbourke/home/perl5/bin /apps/anaconda3/4.5.12/install\n",
      "WARNING: $PATH does not agree with $PATH_modshare counter. The following directories' usage counters were adjusted to match. Note that this may mean that module unloading may not work correctly.\n",
      " /home/nbourke/anaconda3/envs/py27/bin /apps/gcc/6.2.0/ /opt/ibutils/bin /rds/general/user/nbourke/home/anaconda3/bin /apps/mrtrix/3.0/bin /apps/ants/2015-02-23/bin/bin /apps/gcc/6.2.0/bin /usr/local/sbin /opt/pbs/bin /usr/lib64/qt-3.3/bin /apps/ants/2015-02-23/bin/ /rds/general/user/nbourke/home/perl5/bin /apps/anaconda3/4.5.12/install\n",
      "WARNING: $PATH does not agree with $PATH_modshare counter. The following directories' usage counters were adjusted to match. Note that this may mean that module unloading may not work correctly.\n",
      " /home/nbourke/anaconda3/envs/py27/bin /apps/gcc/6.2.0/ /opt/ibutils/bin /rds/general/user/nbourke/home/anaconda3/bin /apps/mrtrix/3.0/bin /apps/ants/2015-02-23/bin/bin /apps/gcc/6.2.0/bin /usr/local/sbin /opt/pbs/bin /usr/lib64/qt-3.3/bin /apps/ants/2015-02-23/bin/ /rds/general/user/nbourke/home/perl5/bin /apps/anaconda3/4.5.12/install\n"
     ]
    }
   ],
   "source": [
    "%%bash -s \"$setup\"\n",
    "export setup=$1;\n",
    "source $setup\n",
    "echo $wd\n",
    "#----------------\n",
    "\n",
    "cd /rds/general/user/nbourke/home/templates/social_ROI\n",
    "\n",
    "## TPJ\n",
    "# MNI coordinates = 55 -52 15\n",
    "make_sphere_roi ~/templates/MNI152_T1_1mm.nii.gz 35 74 87 5\n",
    "\n",
    "## ACCg\n",
    "# MNI coordinates = 2 24 17.5\n",
    "${dep}/make_sphere_roi ~/templates/MNI152_T1_1mm.nii.gz 88 150 89 5\n",
    "\n",
    "## dmpfc\n",
    "# MNI coordinates = 2.5 40 41\n",
    "${dep}/make_sphere_roi ~/templates/MNI152_T1_1mm.nii.gz 87 166 113 5\n",
    "\n",
    "## sgACC\n",
    "# MNI coordinates = -3.5 8 -11\n",
    "${dep}/make_sphere_roi ~/templates/MNI152_T1_1mm.nii.gz 93 134 61 5"
   ]
  },
  {
   "cell_type": "code",
   "execution_count": null,
   "metadata": {},
   "outputs": [],
   "source": [
    "#https://fsl.fmrib.ox.ac.uk/fsl/fslwiki/TBSS/UserGuide\n",
    "\n",
    "cd ../stats\n",
    "design_ttest2 design 7 11\n",
    "\n",
    "randomise -i all_FA_skeletonised -o tbss -m mean_FA_skeleton_mask -d design.mat -t design.con -n 500 --T2\n",
    "\n",
    "fslview $FSLDIR/data/standard/MNI152_T1_1mm mean_FA_skeleton -l Green -b 0.2,0.8 tbss_tstat1 -l Red-Yellow -b 3,6 tbss_tstat2 -l Blue-Lightblue -b 3,6"
   ]
  },
  {
   "cell_type": "markdown",
   "metadata": {},
   "source": [
    "## Save out summary measures for tracts"
   ]
  },
  {
   "cell_type": "code",
   "execution_count": 11,
   "metadata": {},
   "outputs": [
    {
     "name": "stdout",
     "output_type": "stream",
     "text": [
      "/rds/general/project/c3nl_djs_imaging_data/ephemeral/PTBI\n"
     ]
    },
    {
     "name": "stderr",
     "output_type": "stream",
     "text": [
      "WARNING: $PATH does not agree with $PATH_modshare counter. The following directories' usage counters were adjusted to match. Note that this may mean that module unloading may not work correctly.\n",
      " /home/nbourke/anaconda3/envs/py27/bin /apps/gcc/6.2.0/ /opt/ibutils/bin /rds/general/user/nbourke/home/anaconda3/bin /apps/mrtrix/3.0/bin /apps/ants/2015-02-23/bin/bin /apps/gcc/6.2.0/bin /usr/local/sbin /opt/pbs/bin /usr/lib64/qt-3.3/bin /apps/ants/2015-02-23/bin/ /rds/general/user/nbourke/home/perl5/bin /apps/anaconda3/4.5.12/install\n",
      "cat: /rds/general/project/c3nl_djs_imaging_data/ephemeral/PTBI/fa_normalised256: No such file or directory\n"
     ]
    }
   ],
   "source": [
    "%%bash -s \"$setup\"\n",
    "export setup=$1;\n",
    "source $setup\n",
    "echo ${workingDir}\n",
    "${fsl}\n",
    "#----------------\n",
    "\n",
    "dataDir=${workingDir}/DTITK/TBSS\n",
    "tractDIR=~/templates/Corrected_Tracts_256\n",
    "        \n",
    "mkdir ${dataDir}/tractStats\n",
    "\n",
    "# Find the tract masks\n",
    "cd ${tractDIR}\n",
    "TRACTS=`ls *.gz`\n",
    "\n",
    "# Nested for loop - for each mask and each metric do fslstats\n",
    "for i in $TRACTS; \n",
    "do\n",
    "    #j=$(echo ${i} | cut -d '_' -f2-)\n",
    "    k=$(echo ${i} | cut -d '.' -f1)\n",
    "    echo $k > ${dataDir}/tractStats/fa_MNI_${k}.txt\n",
    "    \n",
    "    fslstats -t ${dataDir}/stats/all_FA.nii.gz -k ${tractDIR}/$i -M >> ${dataDir}/tractStats/fa_MNI_${k}.txt\n",
    "\n",
    "done \n",
    "\n",
    "echo \"\" >  ${dataDir}/tractStats/aaa.txt\n",
    "cat ${workingDir}/fa_normalised256 >> ${dataDir}/tractStats/aaa.txt\n",
    "echo \"fa_MNI_skeleton\" > ${dataDir}/tractStats/MNI_FA_skeleton.txt\n",
    "fslstats -t ${dataDir}/stats/all_FA.nii.gz -k ${dataDir}/stats/mean_FA_skeleton_mask.nii.gz -M >> ${dataDir}/tractStats/MNI_FA_skeleton.txt\n",
    "\n",
    "# paste -d , `ls` >> ../fa_tractStats.csv\n"
   ]
  },
  {
   "cell_type": "code",
   "execution_count": null,
   "metadata": {},
   "outputs": [],
   "source": [
    "\n",
    "for ii in `cat dtitk_subj.txt`; \n",
    "    do\n",
    "    A=\"$(echo ${ii} | cut -d'/' -f10)\"\n",
    "    echo $A\n",
    "done\n",
    "    "
   ]
  }
 ],
 "metadata": {
  "kernelspec": {
   "display_name": "Python 3",
   "language": "python",
   "name": "python3"
  },
  "language_info": {
   "codemirror_mode": {
    "name": "ipython",
    "version": 3
   },
   "file_extension": ".py",
   "mimetype": "text/x-python",
   "name": "python",
   "nbconvert_exporter": "python",
   "pygments_lexer": "ipython3",
   "version": "3.6.8"
  }
 },
 "nbformat": 4,
 "nbformat_minor": 2
}
